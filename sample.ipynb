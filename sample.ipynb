{
 "cells": [
  {
   "cell_type": "code",
   "execution_count": 3,
   "metadata": {},
   "outputs": [
    {
     "data": {
      "image/png": "[encoded data removed]",
      "text/plain": [
       "<Figure size 500x500 with 1 Axes>"
      ]
     },
     "metadata": {},
     "output_type": "display_data"
    }
   ],
   "source": [
    "import seaborn as sns\n",
    "import numpy as np\n",
    "import matplotlib.pyplot as plt\n",
    "\n",
    "# 1. 准备数据：创建一个 4x4 的二维数组 (矩阵)\n",
    "#    我们手动创建一个数据，让中心区域的数值最大，四周的数值较小，以模仿图片中的效果。\n",
    "data = np.array([\n",
    "    [1, 4, 5, 2],\n",
    "    [3, 7, 8, 5],\n",
    "    [6, 9, 10, 7], # 数值最大的核心区域\n",
    "    [2, 6, 6, 1]\n",
    "])\n",
    "\n",
    "# 2. 使用 Seaborn 绘制热力图\n",
    "plt.figure(figsize=(5, 5)) # 可以设置画布大小\n",
    "\n",
    "ax = sns.heatmap(\n",
    "    data,                     # 要绘制的数据\n",
    "    cmap=\"Blues\",              # 指定颜色映射方案，'Reds' 从白到红，非常接近示例图\n",
    "    linewidths=1,             # 设置格子之间的线条宽度\n",
    "    linecolor='black',        # 设置格子线的颜色\n",
    "    annot=False,              # 不在格子里显示数值 (如果为 True 则会显示)\n",
    "    cbar=False,               # 不显示颜色条 (colorbar)\n",
    "    xticklabels=False,        # 不显示 x 轴的刻度标签\n",
    "    yticklabels=False         # 不显示 y 轴的刻度标签\n",
    ")\n",
    "\n",
    "# 3. 显示图像\n",
    "plt.show()"
   ]
  },
  {
   "cell_type": "code",
   "execution_count": 8,
   "metadata": {},
   "outputs": [
    {
     "data": {
      "image/png": "[encoded data removed]",
      "text/plain": [
       "<Figure size 200x400 with 1 Axes>"
      ]
     },
     "metadata": {},
     "output_type": "display_data"
    }
   ],
   "source": [
    "# 1. 准备数据：创建一个 4x4 的二维数组 (矩阵)\n",
    "#    我们手动创建一个数据，让中心区域的数值最大，四周的数值较小，以模仿图片中的效果。\n",
    "data = np.array([\n",
    "    [1, 5],\n",
    "    [3, 7],\n",
    "    [8, 9], # 数值最大的核心区域\n",
    "    [2, 1]\n",
    "])\n",
    "\n",
    "# 2. 使用 Seaborn 绘制热力图\n",
    "plt.figure(figsize=(2, 4)) # 可以设置画布大小\n",
    "\n",
    "ax = sns.heatmap(\n",
    "    data,                     # 要绘制的数据\n",
    "    cmap=\"Reds\",              # 指定颜色映射方案，'Reds' 从白到红，非常接近示例图\n",
    "    linewidths=1,             # 设置格子之间的线条宽度\n",
    "    linecolor='black',        # 设置格子线的颜色\n",
    "    annot=False,              # 不在格子里显示数值 (如果为 True 则会显示)\n",
    "    cbar=False,               # 不显示颜色条 (colorbar)\n",
    "    xticklabels=False,        # 不显示 x 轴的刻度标签\n",
    "    yticklabels=False         # 不显示 y 轴的刻度标签\n",
    ")\n",
    "\n",
    "# 3. 显示图像\n",
    "plt.show()"
   ]
  },
  {
   "cell_type": "code",
   "execution_count": 9,
   "metadata": {},
   "outputs": [
    {
     "data": {
      "image/png": "[encoded data removed]",
      "text/plain": [
       "<Figure size 400x200 with 1 Axes>"
      ]
     },
     "metadata": {},
     "output_type": "display_data"
    }
   ],
   "source": [
    "# 1. 准备数据：创建一个 4x4 的二维数组 (矩阵)\n",
    "#    我们手动创建一个数据，让中心区域的数值最大，四周的数值较小，以模仿图片中的效果。\n",
    "data = np.array([\n",
    "    [5,2,7,1],\n",
    "    [9,1,3,5]\n",
    "])\n",
    "\n",
    "# 2. 使用 Seaborn 绘制热力图\n",
    "plt.figure(figsize=(4, 2)) # 可以设置画布大小\n",
    "\n",
    "ax = sns.heatmap(\n",
    "    data,                     # 要绘制的数据\n",
    "    cmap=\"Greens\",              # 指定颜色映射方案，'Reds' 从白到红，非常接近示例图\n",
    "    linewidths=1,             # 设置格子之间的线条宽度\n",
    "    linecolor='black',        # 设置格子线的颜色\n",
    "    annot=False,              # 不在格子里显示数值 (如果为 True 则会显示)\n",
    "    cbar=False,               # 不显示颜色条 (colorbar)\n",
    "    xticklabels=False,        # 不显示 x 轴的刻度标签\n",
    "    yticklabels=False         # 不显示 y 轴的刻度标签\n",
    ")\n",
    "\n",
    "# 3. 显示图像\n",
    "plt.show()"
   ]
  }
 ],
 "metadata": {
  "kernelspec": {
   "display_name": "omniscene",
   "language": "python",
   "name": "python3"
  },
  "language_info": {
   "codemirror_mode": {
    "name": "ipython",
    "version": 3
   },
   "file_extension": ".py",
   "mimetype": "text/x-python",
   "name": "python",
   "nbconvert_exporter": "python",
   "pygments_lexer": "ipython3",
   "version": "3.10.16"
  }
 },
 "nbformat": 4,
 "nbformat_minor": 2
}
